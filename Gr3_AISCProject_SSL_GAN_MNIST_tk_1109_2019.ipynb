{
  "nbformat": 4,
  "nbformat_minor": 0,
  "metadata": {
    "kernelspec": {
      "name": "python3",
      "display_name": "Python 3"
    },
    "language_info": {
      "codemirror_mode": {
        "name": "ipython",
        "version": 3
      },
      "file_extension": ".py",
      "mimetype": "text/x-python",
      "name": "python",
      "nbconvert_exporter": "python",
      "pygments_lexer": "ipython3",
      "version": "3.6.6"
    },
    "colab": {
      "name": "Gr3_AISCProject_SSL_GAN_MNIST_tk_1109-2019.ipynb",
      "provenance": [],
      "collapsed_sections": [],
      "toc_visible": true,
      "include_colab_link": true
    },
    "accelerator": "GPU"
  },
  "cells": [
    {
      "cell_type": "markdown",
      "metadata": {
        "id": "view-in-github",
        "colab_type": "text"
      },
      "source": [
        "<a href=\"https://colab.research.google.com/github/tryambak2019/SGAN/blob/master/Gr3_AISCProject_SSL_GAN_MNIST_tk_1109_2019.ipynb\" target=\"_parent\"><img src=\"https://colab.research.google.com/assets/colab-badge.svg\" alt=\"Open In Colab\"/></a>"
      ]
    },
    {
      "cell_type": "markdown",
      "metadata": {
        "id": "z2xSsQz0Xaih",
        "colab_type": "text"
      },
      "source": [
        "\n",
        "SGAN Implementation\n",
        "==============\n",
        "\n",
        "Credit to  `Augustus Odena <https://arxiv.org/abs/1606.01583>` for the original paper this is based on.\n",
        "\n",
        "\n"
      ]
    },
    {
      "cell_type": "code",
      "metadata": {
        "id": "-7MSuQb3Xaij",
        "colab_type": "code",
        "outputId": "ed5ed5da-4e35-4510-f9b1-eda5680ed655",
        "colab": {
          "base_uri": "https://localhost:8080/",
          "height": 54
        }
      },
      "source": [
        "import os\n",
        "os.environ['CUDA_LAUNCH_BLOCKING'] = \"1\"\n",
        "\n",
        "from __future__ import print_function\n",
        "#%matplotlib inline\n",
        "import argparse\n",
        "import random\n",
        "import torch\n",
        "import torch.nn as nn\n",
        "import torch.nn.parallel\n",
        "import torch.nn.functional as F\n",
        "import torch.backends.cudnn as cudnn\n",
        "import torch.optim as optim\n",
        "import torch.utils.data\n",
        "import torchvision.datasets as dset\n",
        "import torchvision.transforms as transforms\n",
        "import torchvision.utils as vutils\n",
        "from torchvision.utils import save_image\n",
        "from torch.autograd import Variable\n",
        "import numpy as np\n",
        "import matplotlib.pyplot as plt\n",
        "import matplotlib.animation as animation\n",
        "from IPython.display import HTML\n",
        "from IPython.display import Image\n",
        "\n",
        "import time\n",
        "\n",
        "# Set random seem for reproducibility\n",
        "manualSeed = 999\n",
        "#manualSeed = random.randint(1, 10000) # use if you want new results\n",
        "print(\"Random Seed: \", manualSeed)\n",
        "random.seed(manualSeed)\n",
        "torch.manual_seed(manualSeed)"
      ],
      "execution_count": 0,
      "outputs": [
        {
          "output_type": "stream",
          "text": [
            "Random Seed:  999\n"
          ],
          "name": "stdout"
        },
        {
          "output_type": "execute_result",
          "data": {
            "text/plain": [
              "<torch._C.Generator at 0x7ff9254dd8d0>"
            ]
          },
          "metadata": {
            "tags": []
          },
          "execution_count": 1
        }
      ]
    },
    {
      "cell_type": "code",
      "metadata": {
        "id": "XSNaeVuI_Az_",
        "colab_type": "code",
        "colab": {}
      },
      "source": [
        "# Create directory to store images from Generator after each epoch\n",
        "# to keep track of Generator performance\n",
        "directory = \"imagesMNIST\"\n",
        "if not os.path.exists(directory):\n",
        "  os.makedirs(directory)"
      ],
      "execution_count": 0,
      "outputs": []
    },
    {
      "cell_type": "code",
      "metadata": {
        "id": "l5xk7cHo_KFm",
        "colab_type": "code",
        "outputId": "05444472-d198-4a86-bf85-f4569e0d5fbb",
        "colab": {
          "base_uri": "https://localhost:8080/",
          "height": 72
        }
      },
      "source": [
        "ls -l"
      ],
      "execution_count": 0,
      "outputs": [
        {
          "output_type": "stream",
          "text": [
            "total 8\n",
            "drwxr-xr-x 2 root root 4096 Sep 11 13:38 \u001b[0m\u001b[01;34mimagesMNIST\u001b[0m/\n",
            "drwxr-xr-x 1 root root 4096 Aug 27 16:17 \u001b[01;34msample_data\u001b[0m/\n"
          ],
          "name": "stdout"
        }
      ]
    },
    {
      "cell_type": "code",
      "metadata": {
        "id": "285N2lASXaim",
        "colab_type": "code",
        "colab": {}
      },
      "source": [
        "# Root directory for dataset\n",
        "dataroot = '/content'\n",
        "\n",
        "# Number of workers for dataloader\n",
        "workers = 4\n",
        "\n",
        "# Batch size during training\n",
        "batch_size = 25\n",
        "\n",
        "# Spatial size of training images. All images will be resized to this\n",
        "#   size using a transformer.\n",
        "image_size = 28\n",
        "\n",
        "# Number of channels in the training images. For color images this is 3\n",
        "nc = 1\n",
        "\n",
        "# Size of z latent vector (i.e. size of generator input)\n",
        "nz = 100\n",
        "\n",
        "# Size of feature maps in generator\n",
        "ngf = 64\n",
        "\n",
        "# Size of feature maps in discriminator\n",
        "ndf = 64\n",
        "\n",
        "# Number of training epochs\n",
        "num_epochs = 5\n",
        "\n",
        "# Learning rate for optimizers\n",
        "lr = 0.002\n",
        "\n",
        "# Beta1 hyperparam for Adam optimizers\n",
        "beta1 = 0.5\n",
        "\n",
        "# Number of GPUs available. Use 0 for CPU mode.\n",
        "ngpu = 1\n",
        "\n",
        "# Decide which device we want to run on\n",
        "device = torch.device(\"cuda:0\" if (torch.cuda.is_available() and ngpu > 0) \n",
        "                      else \"cpu\")"
      ],
      "execution_count": 0,
      "outputs": []
    },
    {
      "cell_type": "code",
      "metadata": {
        "id": "Xl-pA4TlUWCy",
        "colab_type": "code",
        "outputId": "1f541c67-8b43-4297-9933-37da7b263177",
        "colab": {
          "base_uri": "https://localhost:8080/",
          "height": 632
        }
      },
      "source": [
        "# Create directory MNNIST, download and store MNIST data from pytorch to it\n",
        "\n",
        "trans = transforms.Compose([transforms.Resize(image_size),\n",
        "                            transforms.CenterCrop(image_size),\n",
        "                            transforms.ToTensor(), \n",
        "                            transforms.Normalize([0.5], [0.5])])\n",
        "\n",
        "train_set = dset.MNIST(root='./', train=True, transform=trans,\n",
        "                       download = True)\n",
        "\n",
        "train_loader = torch.utils.data.DataLoader(\n",
        "                 dataset=train_set,\n",
        "                 batch_size=batch_size,\n",
        "                 shuffle=True)\n",
        "\n",
        "print ('==>>> Total number of training batches: {}'.format(len(train_loader)))\n",
        "\n",
        "# Plot some training images\n",
        "real_batch = next(iter(train_loader))\n",
        "plt.figure(figsize=(5,5))\n",
        "plt.axis(\"off\")\n",
        "plt.title(\"Training Images\")\n",
        "plt.imshow(np.transpose(vutils.make_grid(real_batch[0].to(device)[:25],\n",
        "                                         padding=2, normalize=True,\n",
        "                                         nrow = 5).cpu(),\n",
        "                        (1,2,0)))\n",
        "\n",
        "\n",
        "# Number of channels in the training images. For color images this is 3\n",
        "nc = 1\n",
        "\n",
        "num_classes = 10"
      ],
      "execution_count": 0,
      "outputs": [
        {
          "output_type": "stream",
          "text": [
            "\r0it [00:00, ?it/s]"
          ],
          "name": "stderr"
        },
        {
          "output_type": "stream",
          "text": [
            "Downloading http://yann.lecun.com/exdb/mnist/train-images-idx3-ubyte.gz to ./MNIST/raw/train-images-idx3-ubyte.gz\n"
          ],
          "name": "stdout"
        },
        {
          "output_type": "stream",
          "text": [
            "9920512it [00:03, 2932549.73it/s]                             \n"
          ],
          "name": "stderr"
        },
        {
          "output_type": "stream",
          "text": [
            "Extracting ./MNIST/raw/train-images-idx3-ubyte.gz\n"
          ],
          "name": "stdout"
        },
        {
          "output_type": "stream",
          "text": [
            "\r0it [00:00, ?it/s]"
          ],
          "name": "stderr"
        },
        {
          "output_type": "stream",
          "text": [
            "Downloading http://yann.lecun.com/exdb/mnist/train-labels-idx1-ubyte.gz to ./MNIST/raw/train-labels-idx1-ubyte.gz\n"
          ],
          "name": "stdout"
        },
        {
          "output_type": "stream",
          "text": [
            "32768it [00:00, 57441.98it/s]                           \n",
            "0it [00:00, ?it/s]"
          ],
          "name": "stderr"
        },
        {
          "output_type": "stream",
          "text": [
            "Extracting ./MNIST/raw/train-labels-idx1-ubyte.gz\n",
            "Downloading http://yann.lecun.com/exdb/mnist/t10k-images-idx3-ubyte.gz to ./MNIST/raw/t10k-images-idx3-ubyte.gz\n"
          ],
          "name": "stdout"
        },
        {
          "output_type": "stream",
          "text": [
            "1654784it [00:01, 944865.48it/s]                             \n",
            "0it [00:00, ?it/s]"
          ],
          "name": "stderr"
        },
        {
          "output_type": "stream",
          "text": [
            "Extracting ./MNIST/raw/t10k-images-idx3-ubyte.gz\n",
            "Downloading http://yann.lecun.com/exdb/mnist/t10k-labels-idx1-ubyte.gz to ./MNIST/raw/t10k-labels-idx1-ubyte.gz\n"
          ],
          "name": "stdout"
        },
        {
          "output_type": "stream",
          "text": [
            "8192it [00:00, 21442.34it/s]            \n"
          ],
          "name": "stderr"
        },
        {
          "output_type": "stream",
          "text": [
            "Extracting ./MNIST/raw/t10k-labels-idx1-ubyte.gz\n",
            "Processing...\n",
            "Done!\n",
            "==>>> Total number of training batches: 2400\n"
          ],
          "name": "stdout"
        },
        {
          "output_type": "display_data",
          "data": {
            "image/png": "[encoded data removed]",
            "text/plain": [
              "<Figure size 360x360 with 1 Axes>"
            ]
          },
          "metadata": {
            "tags": []
          }
        }
      ]
    },
    {
      "cell_type": "code",
      "metadata": {
        "id": "2nrtid3SXais",
        "colab_type": "code",
        "colab": {}
      },
      "source": [
        "# custom weights initialization called on netG and netD\n",
        "def weights_init(m):\n",
        "    classname = m.__class__.__name__\n",
        "    if classname.find('Conv') != -1:\n",
        "        nn.init.normal_(m.weight.data, 0.0, 0.02)\n",
        "    elif classname.find('BatchNorm') != -1:\n",
        "        nn.init.normal_(m.weight.data, 1.0, 0.02)\n",
        "        nn.init.constant_(m.bias.data, 0)"
      ],
      "execution_count": 0,
      "outputs": []
    },
    {
      "cell_type": "code",
      "metadata": {
        "id": "TS_tL6xT4M57",
        "colab_type": "code",
        "colab": {}
      },
      "source": [
        "def conv(in_channels, out_channels, kernel_size, stride=2, padding=1, \n",
        "         batch_norm=True, init_zero_weights=False):\n",
        "    \"\"\"Creates a convolutional layer, with optional batch normalization.\n",
        "    \"\"\"\n",
        "    layers = []\n",
        "    conv_layer = nn.Conv2d(in_channels=in_channels, out_channels=out_channels,\n",
        "                           kernel_size=kernel_size, stride=stride,\n",
        "                           padding=padding, bias=False)\n",
        "    if init_zero_weights:\n",
        "        conv_layer.weight.data = torch.randn(out_channels, in_channels, \n",
        "                                             kernel_size, kernel_size) * 0.001\n",
        "    layers.append(conv_layer)\n",
        "\n",
        "    if batch_norm:\n",
        "        layers.append(nn.BatchNorm2d(out_channels))\n",
        "    return nn.Sequential(*layers)"
      ],
      "execution_count": 0,
      "outputs": []
    },
    {
      "cell_type": "code",
      "metadata": {
        "id": "l77MwixG4NyI",
        "colab_type": "code",
        "colab": {}
      },
      "source": [
        "def deconv(in_channels, out_channels, kernel_size, stride=2, padding=1,\n",
        "           batch_norm=True, bias=False):\n",
        "    \"\"\"Creates a transposed-convolutional layer, with optional batch\n",
        "       normalization.\n",
        "    \"\"\"\n",
        "    layers = []\n",
        "    layers.append(nn.ConvTranspose2d(in_channels, out_channels, kernel_size,\n",
        "                                     stride, padding, bias=bias))\n",
        "    if batch_norm:\n",
        "        layers.append(nn.BatchNorm2d(out_channels))\n",
        "    return nn.Sequential(*layers)"
      ],
      "execution_count": 0,
      "outputs": []
    },
    {
      "cell_type": "code",
      "metadata": {
        "id": "p2evP7iu6uKH",
        "colab_type": "code",
        "outputId": "6bf34efb-eec3-44a1-9f31-16d4e60cdced",
        "colab": {
          "base_uri": "https://localhost:8080/",
          "height": 293
        }
      },
      "source": [
        "class Generator(nn.Module):\n",
        "    def __init__(self, ngpu):\n",
        "        super(Generator, self).__init__()\n",
        "        self.ngpu = ngpu\n",
        "        self.Linear1 = nn.Linear(nz, 128 * 7 * 7)\n",
        "        self.convT1 = deconv(128, 128, 4, 2, 1)\n",
        "        self.convT2 = deconv(128, 128, 4, 2, 1)\n",
        "        self.output = deconv(128, nc, 1, 1, 0, batch_norm=False)\n",
        "\n",
        "    def forward(self, input):\n",
        "        out = F.leaky_relu(self.Linear1(input.squeeze()), inplace=True)\n",
        "        out = out.reshape(-1,128,7,7)\n",
        "        out = F.leaky_relu(self.convT1(out), inplace=True)\n",
        "        out = F.leaky_relu(self.convT2(out), inplace=True)\n",
        "        out = self.output(out)\n",
        "\n",
        "        return torch.tanh(out)\n",
        "\n",
        "# Create the generator\n",
        "netG = Generator(ngpu).to(device)\n",
        "\n",
        "# Handle multi-gpu if desired\n",
        "if (device.type == 'cuda') and (ngpu > 1):\n",
        "    netG = nn.DataParallel(netG, list(range(ngpu)))\n",
        "\n",
        "# Apply the weights_init function to randomly initialize all weights\n",
        "#  to mean=0, stdev=0.2.\n",
        "netG.apply(weights_init)\n",
        "\n",
        "# Print the model\n",
        "print(netG)\n",
        "\n",
        "noise = torch.randn(batch_size, nz, 1, 1, device=device)\n",
        "fake = netG(noise)\n",
        "print (fake.shape)"
      ],
      "execution_count": 0,
      "outputs": [
        {
          "output_type": "stream",
          "text": [
            "Generator(\n",
            "  (Linear1): Linear(in_features=100, out_features=6272, bias=True)\n",
            "  (convT1): Sequential(\n",
            "    (0): ConvTranspose2d(128, 128, kernel_size=(4, 4), stride=(2, 2), padding=(1, 1), bias=False)\n",
            "    (1): BatchNorm2d(128, eps=1e-05, momentum=0.1, affine=True, track_running_stats=True)\n",
            "  )\n",
            "  (convT2): Sequential(\n",
            "    (0): ConvTranspose2d(128, 128, kernel_size=(4, 4), stride=(2, 2), padding=(1, 1), bias=False)\n",
            "    (1): BatchNorm2d(128, eps=1e-05, momentum=0.1, affine=True, track_running_stats=True)\n",
            "  )\n",
            "  (output): Sequential(\n",
            "    (0): ConvTranspose2d(128, 1, kernel_size=(1, 1), stride=(1, 1), bias=False)\n",
            "  )\n",
            ")\n",
            "torch.Size([25, 1, 28, 28])\n"
          ],
          "name": "stdout"
        }
      ]
    },
    {
      "cell_type": "code",
      "metadata": {
        "id": "uTS9h3OW38_B",
        "colab_type": "code",
        "outputId": "65997cca-81e8-4df1-b437-d6d9bc2087de",
        "colab": {
          "base_uri": "https://localhost:8080/",
          "height": 311
        }
      },
      "source": [
        "class Discriminator(nn.Module):\n",
        "    def __init__(self, ngpu, num_classes):\n",
        "        super(Discriminator, self).__init__()\n",
        "        self.ngpu = ngpu\n",
        "        self.num_classes = num_classes\n",
        "        self.conv1 = conv(nc, 128, 3, 2, 1)\n",
        "        self.conv2 = conv(128, 128, 3, 2, 1)\n",
        "        self.conv3 = conv(128, 128, 3, 2, 1)\n",
        "        self.Linear = nn.Linear(128*4*4, self.num_classes)\n",
        "\n",
        "\n",
        "    def forward(self, input):\n",
        "        out = F.leaky_relu(self.conv1(input), inplace=True)\n",
        "        out = F.leaky_relu(self.conv2(out), inplace=True)\n",
        "        out = F.leaky_relu(self.conv3(out), inplace=True)\n",
        "        out = out.view(-1,128*4*4)\n",
        "        out = self.Linear(out)\n",
        "        xe = torch.exp(out)\n",
        "        logexpsum = xe.sum(dim = -1)\n",
        "        adv = logexpsum / (logexpsum + 1)\n",
        "        aux = F.softmax(out.squeeze(), dim = 1)\n",
        "\n",
        "        return adv, aux\n",
        "\n",
        "# Create the Discriminator\n",
        "num_classes = 10\n",
        "netD = Discriminator(ngpu, num_classes).to(device)\n",
        "\n",
        "# Handle multi-gpu if desired\n",
        "if (device.type == 'cuda') and (ngpu > 1):\n",
        "    netD = nn.DataParallel(netD, list(range(ngpu)))\n",
        "    \n",
        "# Apply the weights_init function to randomly initialize all weights\n",
        "#  to mean=0, stdev=0.2.\n",
        "netD.apply(weights_init)\n",
        "\n",
        "# Print the model\n",
        "print(netD)\n",
        "\n",
        "\n",
        "noise = torch.randn(batch_size, 1, 28, 28, device=device)\n",
        "adv, aux = netD(noise)\n",
        "print (aux.shape)"
      ],
      "execution_count": 0,
      "outputs": [
        {
          "output_type": "stream",
          "text": [
            "Discriminator(\n",
            "  (conv1): Sequential(\n",
            "    (0): Conv2d(1, 128, kernel_size=(3, 3), stride=(2, 2), padding=(1, 1), bias=False)\n",
            "    (1): BatchNorm2d(128, eps=1e-05, momentum=0.1, affine=True, track_running_stats=True)\n",
            "  )\n",
            "  (conv2): Sequential(\n",
            "    (0): Conv2d(128, 128, kernel_size=(3, 3), stride=(2, 2), padding=(1, 1), bias=False)\n",
            "    (1): BatchNorm2d(128, eps=1e-05, momentum=0.1, affine=True, track_running_stats=True)\n",
            "  )\n",
            "  (conv3): Sequential(\n",
            "    (0): Conv2d(128, 128, kernel_size=(3, 3), stride=(2, 2), padding=(1, 1), bias=False)\n",
            "    (1): BatchNorm2d(128, eps=1e-05, momentum=0.1, affine=True, track_running_stats=True)\n",
            "  )\n",
            "  (Linear): Linear(in_features=2048, out_features=10, bias=True)\n",
            ")\n",
            "torch.Size([25, 10])\n"
          ],
          "name": "stdout"
        }
      ]
    },
    {
      "cell_type": "code",
      "metadata": {
        "id": "VN7uKRzCXai-",
        "colab_type": "code",
        "colab": {}
      },
      "source": [
        "# Initialize BCELoss function\n",
        "criterion_adv = nn.BCELoss()\n",
        "criterion_aux = nn.CrossEntropyLoss()\n",
        "\n",
        "if (device.type == 'cuda') and (ngpu > 1):\n",
        "  criterion_adv.cuda()\n",
        "  criterion_aux.cuda()\n",
        "\n",
        "# Create batch of latent vectors that we will use to visualize\n",
        "#  the progression of the generator\n",
        "fixed_noise = torch.randn(batch_size, nz, 1, 1, device=device)\n",
        "\n",
        "# Establish convention for real and fake labels during training\n",
        "real_label = 1\n",
        "fake_label = 0\n",
        "\n",
        "# Setup Adam optimizers for both G and D\n",
        "optimizerD = optim.Adam(netD.parameters(), lr=lr, betas=(beta1, 0.999))\n",
        "optimizerG = optim.Adam(netG.parameters(), lr=lr, betas=(beta1, 0.999))"
      ],
      "execution_count": 0,
      "outputs": []
    },
    {
      "cell_type": "code",
      "metadata": {
        "id": "hv7toRQ4zJUQ",
        "colab_type": "code",
        "colab": {}
      },
      "source": [
        "checkpoint_dir = '/content/MNIST_Check/'\n",
        "\n",
        "def create_dir(directory):\n",
        "    \"\"\"Creates a directory if it does not already exist.\n",
        "    \"\"\"\n",
        "    if not os.path.exists(directory):\n",
        "        os.makedirs(directory)\n",
        "\n",
        "create_dir(checkpoint_dir)\n",
        "\n",
        "def checkpoint(epoch, G, D, optimizerG,optimizerD, lossG, lossD):\n",
        "    \"\"\"\n",
        "    Saves the parameters of the generator G and discriminator D.\n",
        "    \"\"\"\n",
        "    GAN_path = os.path.join(checkpoint_dir, 'GAN.pkl')    \n",
        "\n",
        "    torch.save({\n",
        "            'epoch': epoch,\n",
        "            'G_state_dict': G.state_dict(),\n",
        "            'D_state_dict': D.state_dict(),\n",
        "            'optimizerG_state_dict': optimizerG.state_dict(),\n",
        "            'optimizerD_state_dict': optimizerD.state_dict(),\n",
        "            'lossG': lossG,\n",
        "            'lossD': lossD\n",
        "            }, GAN_path)\n",
        "    \n",
        "def load_checkpoint(model, checkpoint_name):\n",
        "    model.load_state_dict(torch.load(os.path.join(checkpoint_dir, \n",
        "                                                  checkpoint_name)))"
      ],
      "execution_count": 0,
      "outputs": []
    },
    {
      "cell_type": "code",
      "metadata": {
        "id": "LrojzcwmaKrj",
        "colab_type": "code",
        "outputId": "1a40ffe8-3e74-4526-deca-9b3cf34ceae4",
        "colab": {
          "base_uri": "https://localhost:8080/",
          "height": 54
        }
      },
      "source": [
        "print(batch_size)\n",
        "print(len(train_loader))"
      ],
      "execution_count": 0,
      "outputs": [
        {
          "output_type": "stream",
          "text": [
            "25\n",
            "2400\n"
          ],
          "name": "stdout"
        }
      ]
    },
    {
      "cell_type": "code",
      "metadata": {
        "id": "fkCcDCEh_s_m",
        "colab_type": "code",
        "outputId": "7705ffed-199e-4b1c-cbc9-cbd6e7e39ce4",
        "colab": {
          "base_uri": "https://localhost:8080/",
          "height": 770
        }
      },
      "source": [
        "# Lists to keep track of progress\n",
        "img_list = []\n",
        "img_list_fixedN = []\n",
        "G_losses = []\n",
        "D_losses = []\n",
        "iters = 0\n",
        "\n",
        "sample_interval = 100\n",
        "num_epochs = 20\n",
        "len_train_loader = len(train_loader)\n",
        "\n",
        "supervised_batch = batch_size // 2\n",
        "\n",
        "netD.train()\n",
        "netG.train()\n",
        "t0 = time.time()\n",
        "print(\"Starting Training Loop...\")\n",
        "# For each epoch\n",
        "for epoch in range(num_epochs):\n",
        "# for epoch in range(1):\n",
        "    # For each batch in the dataloader\n",
        "\n",
        "    for i, (imgs, labels) in enumerate(train_loader, 0):\n",
        "      # Format batch\n",
        "        real_data = imgs.to(device)\n",
        "        b_size = real_data.size(0)\n",
        "        label_real_adv = torch.full((b_size,), real_label, device=device, \n",
        "                               requires_grad=False)\n",
        "        label_fake_adv = torch.full((b_size,), fake_label, device=device,\n",
        "                                    requires_grad=False)\n",
        "        \n",
        "        netG.zero_grad()\n",
        "        netD.zero_grad()\n",
        "\t\t# update supervised discriminator (aux)\n",
        "        ix = np.random.randint(0, b_size, supervised_batch)\n",
        "        Isup_real, Lsup_real = real_data[ix], labels[ix]\n",
        "        _, auxSup = netD(Isup_real)\n",
        "        auxSup_loss = criterion_aux(auxSup, Lsup_real.to(device))\n",
        "\n",
        "\t\t# update unsupervised discriminator (adv)\n",
        "        advUnsup, _ = netD(real_data)\n",
        "        errD_real = criterion_adv(advUnsup, label_real_adv)\n",
        "\n",
        "\n",
        "        # optimizerG.zero_grad()\n",
        "        noise = torch.randn(b_size, nz, 1, 1, device=device)\n",
        "        fake = netG(noise)\n",
        "        adv_fake, _ = netD(fake.detach())\n",
        "        errD_fake = criterion_adv(adv_fake.view(-1), label_fake_adv)\n",
        "\n",
        "\n",
        "        # Add the gradients from the all-real and all-fake batches\n",
        "        errD_unsup = 0.5 * (errD_real + errD_fake)\n",
        "        errD = errD_unsup + auxSup_loss\n",
        "        errD.backward()\n",
        "        # Update D\n",
        "        optimizerD.step()\n",
        "\n",
        "\n",
        "\t\t# update generator (g)\n",
        "\t      # netG.zero_grad()\n",
        "        adv_g, _ = netD(fake)\n",
        "        errG = criterion_adv(adv_g.view(-1), label_real_adv)\n",
        "        errG.backward()\n",
        "\n",
        "        # Update G\n",
        "        optimizerG.step()\n",
        "\n",
        "        \n",
        "        # Calculate discriminator accuracy\n",
        "        pred = np.concatenate([auxSup.data.cpu().numpy(),\n",
        "                              ], axis=0)\n",
        "        gt = np.concatenate([Lsup_real.data.cpu().numpy(),\n",
        "                            ], axis=0)\n",
        "        d_acc = np.mean(np.argmax(pred, axis=1) == gt)\n",
        "\n",
        "        # Output training stats\n",
        "        if i % (len_train_loader/2) == 0:\n",
        "            print('[%d/%d][%d/%d]\\tLoss_D: %.4f\\tLoss_G: %.4f\\tAcc: %d%%\\tTot Time: %d secs'\n",
        "                    % (epoch, num_epochs, i, len_train_loader,\n",
        "                     errD.item(), errG.item(), 100 * d_acc, time.time() - t0))\n",
        "        \n",
        "        # Save Losses for plotting later\n",
        "        G_losses.append(errG.item())\n",
        "        D_losses.append(errD.item())\n",
        "        \n",
        "        # Check how the generator is doing by saving G's output on fixed_noise\n",
        "        if (iters % (len_train_loader/2) == 0) or ((epoch == num_epochs-1)\n",
        "                                          and (i == len_train_loader-1)):\n",
        "          batches_done = epoch * len_train_loader + i\n",
        "          with torch.no_grad():\n",
        "                fake_fixed = netG(fixed_noise).detach().cpu()\n",
        "          img_list_fixedN.append(vutils.make_grid(fake_fixed.detach().cpu(),\n",
        "                                           padding=2, normalize=True))\n",
        "          save_image(fake_fixed.data[:], \n",
        "                       dataroot + \"/imagesMNIST/fixedN%d.png\" % batches_done,\n",
        "                       nrow=5, normalize=True)\n",
        "\n",
        "        iters += 1\n",
        "\n",
        "    checkpoint(epoch, netG, netD, optimizerG, optimizerD, G_losses, D_losses)"
      ],
      "execution_count": 0,
      "outputs": [
        {
          "output_type": "stream",
          "text": [
            "Starting Training Loop...\n",
            "[0/20][0/2400]\tLoss_D: 3.6598\tLoss_G: 0.8057\tAcc: 16%\t 0 secs\n",
            "[0/20][1200/2400]\tLoss_D: 1.7415\tLoss_G: 3.1108\tAcc: 100%\t 70 secs\n",
            "[1/20][0/2400]\tLoss_D: 2.0043\tLoss_G: 2.6231\tAcc: 100%\t 140 secs\n",
            "[1/20][1200/2400]\tLoss_D: 1.7704\tLoss_G: 3.2263\tAcc: 100%\t 210 secs\n",
            "[2/20][0/2400]\tLoss_D: 1.7598\tLoss_G: 3.9744\tAcc: 100%\t 281 secs\n",
            "[2/20][1200/2400]\tLoss_D: 1.9139\tLoss_G: 4.6372\tAcc: 91%\t 351 secs\n",
            "[3/20][0/2400]\tLoss_D: 1.7242\tLoss_G: 3.8905\tAcc: 100%\t 421 secs\n",
            "[3/20][1200/2400]\tLoss_D: 1.5435\tLoss_G: 4.1865\tAcc: 100%\t 491 secs\n",
            "[4/20][0/2400]\tLoss_D: 1.6082\tLoss_G: 3.7928\tAcc: 100%\t 562 secs\n",
            "[4/20][1200/2400]\tLoss_D: 1.6523\tLoss_G: 4.1333\tAcc: 83%\t 632 secs\n",
            "[5/20][0/2400]\tLoss_D: 1.6872\tLoss_G: 5.7417\tAcc: 100%\t 702 secs\n",
            "[5/20][1200/2400]\tLoss_D: 1.4875\tLoss_G: 4.8639\tAcc: 100%\t 772 secs\n",
            "[6/20][0/2400]\tLoss_D: 1.7658\tLoss_G: 4.8709\tAcc: 100%\t 842 secs\n",
            "[6/20][1200/2400]\tLoss_D: 1.7753\tLoss_G: 6.3922\tAcc: 100%\t 912 secs\n",
            "[7/20][0/2400]\tLoss_D: 1.9219\tLoss_G: 6.9556\tAcc: 100%\t 983 secs\n",
            "[7/20][1200/2400]\tLoss_D: 1.6329\tLoss_G: 4.7622\tAcc: 91%\t 1053 secs\n",
            "[8/20][0/2400]\tLoss_D: 1.5206\tLoss_G: 5.4121\tAcc: 100%\t 1123 secs\n",
            "[8/20][1200/2400]\tLoss_D: 1.5518\tLoss_G: 7.4463\tAcc: 100%\t 1193 secs\n",
            "[9/20][0/2400]\tLoss_D: 1.6352\tLoss_G: 5.9775\tAcc: 100%\t 1263 secs\n",
            "[9/20][1200/2400]\tLoss_D: 1.4923\tLoss_G: 7.4452\tAcc: 100%\t 1333 secs\n",
            "[10/20][0/2400]\tLoss_D: 1.6616\tLoss_G: 5.3290\tAcc: 100%\t 1403 secs\n",
            "[10/20][1200/2400]\tLoss_D: 1.9273\tLoss_G: 8.6985\tAcc: 100%\t 1473 secs\n",
            "[11/20][0/2400]\tLoss_D: 1.5027\tLoss_G: 5.1274\tAcc: 100%\t 1543 secs\n",
            "[11/20][1200/2400]\tLoss_D: 1.7177\tLoss_G: 8.1989\tAcc: 83%\t 1613 secs\n",
            "[12/20][0/2400]\tLoss_D: 1.8836\tLoss_G: 6.5206\tAcc: 100%\t 1684 secs\n",
            "[12/20][1200/2400]\tLoss_D: 1.9197\tLoss_G: 6.7445\tAcc: 100%\t 1754 secs\n",
            "[13/20][0/2400]\tLoss_D: 1.4876\tLoss_G: 8.1300\tAcc: 100%\t 1824 secs\n",
            "[13/20][1200/2400]\tLoss_D: 1.5269\tLoss_G: 6.0727\tAcc: 100%\t 1894 secs\n",
            "[14/20][0/2400]\tLoss_D: 1.6147\tLoss_G: 4.8290\tAcc: 100%\t 1964 secs\n",
            "[14/20][1200/2400]\tLoss_D: 2.0596\tLoss_G: 9.2116\tAcc: 100%\t 2035 secs\n",
            "[15/20][0/2400]\tLoss_D: 1.4918\tLoss_G: 6.1352\tAcc: 100%\t 2105 secs\n",
            "[15/20][1200/2400]\tLoss_D: 1.5382\tLoss_G: 5.5919\tAcc: 100%\t 2175 secs\n",
            "[16/20][0/2400]\tLoss_D: 2.1058\tLoss_G: 8.9850\tAcc: 100%\t 2245 secs\n",
            "[16/20][1200/2400]\tLoss_D: 1.6628\tLoss_G: 4.1038\tAcc: 100%\t 2315 secs\n",
            "[17/20][0/2400]\tLoss_D: 1.6062\tLoss_G: 4.3820\tAcc: 100%\t 2385 secs\n",
            "[17/20][1200/2400]\tLoss_D: 1.4772\tLoss_G: 9.7673\tAcc: 100%\t 2456 secs\n",
            "[18/20][0/2400]\tLoss_D: 1.5088\tLoss_G: 6.4428\tAcc: 100%\t 2526 secs\n",
            "[18/20][1200/2400]\tLoss_D: 1.5488\tLoss_G: 5.8926\tAcc: 100%\t 2596 secs\n",
            "[19/20][0/2400]\tLoss_D: 1.4625\tLoss_G: 8.9385\tAcc: 100%\t 2666 secs\n",
            "[19/20][1200/2400]\tLoss_D: 1.8285\tLoss_G: 2.6757\tAcc: 100%\t 2736 secs\n"
          ],
          "name": "stdout"
        }
      ]
    },
    {
      "cell_type": "markdown",
      "metadata": {
        "id": "5pE-LFMaXajD",
        "colab_type": "text"
      },
      "source": [
        "Results\n",
        "-------\n",
        "\n",
        "Finally, lets check out how we did. Here, we will look at three different results.\n",
        "\n",
        "First, we will see how D and G’s losses changed\n",
        "during training.\n",
        "\n",
        "Second, we will evaluate Discriminator's performance on trining dataset.\n",
        "\n",
        "And third, we will compare a batch of real data\n",
        "for Ground Truth to the predicted values.\n",
        "\n",
        "**Loss versus training iteration**\n",
        "\n",
        "Below is a plot of D & G’s losses versus training iterations.\n",
        "\n",
        "\n"
      ]
    },
    {
      "cell_type": "code",
      "metadata": {
        "id": "NzVu8xHzXajD",
        "colab_type": "code",
        "outputId": "0dddce68-d147-4675-bb4d-7f92bbefc5ef",
        "colab": {
          "base_uri": "https://localhost:8080/",
          "height": 350
        }
      },
      "source": [
        "plt.figure(figsize=(10,5))\n",
        "plt.title(\"Generator and Discriminator Loss During Training\")\n",
        "plt.plot(G_losses,label=\"G\")\n",
        "plt.plot(D_losses,label=\"D\")\n",
        "plt.xlabel(\"iterations\")\n",
        "plt.ylabel(\"Loss\")\n",
        "plt.legend()\n",
        "plt.show()"
      ],
      "execution_count": 0,
      "outputs": [
        {
          "output_type": "display_data",
          "data": {
            "image/png": "[encoded data removed]",
            "text/plain": [
              "<Figure size 720x360 with 1 Axes>"
            ]
          },
          "metadata": {
            "tags": []
          }
        }
      ]
    },
    {
      "cell_type": "code",
      "metadata": {
        "id": "tW8Fy6jHUY8z",
        "colab_type": "code",
        "outputId": "aeed0e20-3fee-4726-aad4-6f687c5592b6",
        "colab": {
          "base_uri": "https://localhost:8080/",
          "height": 54
        }
      },
      "source": [
        "#Load trained model\n",
        "\n",
        "# print (checkpoint_dir)\n",
        "# GAN_path = os.path.join(checkpoint_dir, 'GAN.pkl')\n",
        "\n",
        "# if (device):\n",
        "#   checkpoint = torch.load(GAN_path, map_location = 'cpu')\n",
        "\n",
        "# netD.load_state_dict(checkpoint['D_state_dict'])"
      ],
      "execution_count": 0,
      "outputs": [
        {
          "output_type": "stream",
          "text": [
            "/content/gdrive/My Drive/Colab Notebooks/AISC/GAN/MNIST_Check2CB/\n"
          ],
          "name": "stdout"
        },
        {
          "output_type": "execute_result",
          "data": {
            "text/plain": [
              "IncompatibleKeys(missing_keys=[], unexpected_keys=[])"
            ]
          },
          "metadata": {
            "tags": []
          },
          "execution_count": 38
        }
      ]
    },
    {
      "cell_type": "code",
      "metadata": {
        "id": "5XbZUNK6S4_k",
        "colab_type": "code",
        "outputId": "6b3a4074-7160-4f22-8101-53db079df01a",
        "colab": {
          "base_uri": "https://localhost:8080/",
          "height": 373
        }
      },
      "source": [
        "trans = transforms.Compose([transforms.Resize(image_size),\n",
        "                            transforms.CenterCrop(image_size),\n",
        "                            transforms.ToTensor(), \n",
        "                            transforms.Normalize([0.5], [0.5])])\n",
        "\n",
        "test_set = dset.MNIST(root='./data', train=False, transform=trans)\n",
        "\n",
        "test_loader = torch.utils.data.DataLoader(\n",
        "                 dataset=test_set,\n",
        "                 batch_size=25,\n",
        "                 shuffle=True)\n",
        "\n",
        "print ('==>>> Total number of testing batches: {}'.format(len(test_loader)))\n",
        "\n",
        "# Plot some testing images\n",
        "real_batch = next(iter(test_loader))\n",
        "plt.figure(figsize=(5,5))\n",
        "plt.axis(\"off\")\n",
        "plt.title(\"Training Images\")\n",
        "plt.imshow(np.transpose(vutils.make_grid(real_batch[0].to(device)[:25],\n",
        "                                         padding=2, normalize=True,\n",
        "                                         nrow = 5).cpu(),\n",
        "                        (1,2,0)))"
      ],
      "execution_count": 0,
      "outputs": [
        {
          "output_type": "stream",
          "text": [
            "400\n"
          ],
          "name": "stdout"
        },
        {
          "output_type": "execute_result",
          "data": {
            "text/plain": [
              "<matplotlib.image.AxesImage at 0x7fa1786e07b8>"
            ]
          },
          "metadata": {
            "tags": []
          },
          "execution_count": 41
        },
        {
          "output_type": "display_data",
          "data": {
            "image/png": "[encoded data removed]",
            "text/plain": [
              "<Figure size 360x360 with 1 Axes>"
            ]
          },
          "metadata": {
            "tags": []
          }
        }
      ]
    },
    {
      "cell_type": "code",
      "metadata": {
        "id": "YN8BVPotSok4",
        "colab_type": "code",
        "outputId": "c6f0747b-92fc-41cb-c6e7-ab552ec5e6fc",
        "colab": {
          "base_uri": "https://localhost:8080/",
          "height": 129
        }
      },
      "source": [
        "netD.eval()\n",
        "test_loss = 0\n",
        "correct = 0\n",
        "\n",
        "with torch.no_grad():\n",
        "    for imgs, labels in test_loader:\n",
        "      adv, aux = netD(imgs.to(device))\n",
        "      test_loss += F.nll_loss(aux, labels.to(device), size_average=False).item()\n",
        "      pred = aux.data.max(1, keepdim=True)[1]\n",
        "      correct += pred.eq(labels.to(device).data.view_as(pred)).sum()\n",
        "  \n",
        "test_loss /= len(test_loader.dataset)\n",
        "# test_loss.append(test_loss)\n",
        "  \n",
        "print('\\nTest set: Avg. loss: {:.4f}, Accuracy: {}/{} ({:.0f}%)\\n'.format(\n",
        "    test_loss, correct, len(test_loader.dataset),\n",
        "    100. * correct / len(test_loader.dataset)))"
      ],
      "execution_count": 0,
      "outputs": [
        {
          "output_type": "stream",
          "text": [
            "/usr/local/lib/python3.6/dist-packages/torch/nn/_reduction.py:46: UserWarning: size_average and reduce args will be deprecated, please use reduction='sum' instead.\n",
            "  warnings.warn(warning.format(ret))\n"
          ],
          "name": "stderr"
        },
        {
          "output_type": "stream",
          "text": [
            "\n",
            "Test set: Avg. loss: -0.9849, Accuracy: 9876/10000 (98%)\n",
            "\n"
          ],
          "name": "stdout"
        }
      ]
    },
    {
      "cell_type": "markdown",
      "metadata": {
        "id": "oQ_DXOWJjGuV",
        "colab_type": "text"
      },
      "source": [
        "##**Check the predicted value against Ground Truth**"
      ]
    },
    {
      "cell_type": "code",
      "metadata": {
        "id": "BUOo9bYbeiMv",
        "colab_type": "code",
        "outputId": "6a2e70a4-fc9c-4e86-a0bf-7bb5a3db5a12",
        "colab": {
          "base_uri": "https://localhost:8080/",
          "height": 168
        }
      },
      "source": [
        "# dataiter = iter(test_loader)\n",
        "images, labels = next(iter(test_loader))\n",
        "\n",
        "no_of_data = min(30, images.shape[0])\n",
        "\n",
        "# print images\n",
        "plt.figure(figsize=(no_of_data,no_of_data))\n",
        "plt.imshow(np.transpose(vutils.make_grid(images.to(device)[:no_of_data],\n",
        "                                         padding=2, normalize=True,\n",
        "                                         nrow = no_of_data).cpu(),\n",
        "                        (1,2,0)))\n",
        "\n",
        "print('GroundTruth: ', ' '.join('%5s' \n",
        "                                % labels[j].item() for j in range(no_of_data)))\n",
        "\n",
        "\n",
        "adv, aux = netD(images.to(device))\n",
        "_, predicted = torch.max(aux, 1)\n",
        "\n",
        "print('Predicted:   ', ' '.join('%5s' \n",
        "                              % predicted[j].item() for j in range(no_of_data)))"
      ],
      "execution_count": 0,
      "outputs": [
        {
          "output_type": "stream",
          "text": [
            "GroundTruth:      6     6     6     0     8     1     0     3     6     5     1     2     7     8     0     3     2     5     2     3     5     9     1     8     3\n",
            "Predicted:        6     6     6     0     8     1     0     3     6     5     1     2     7     8     0     3     2     5     2     3     5     9     1     8     3\n"
          ],
          "name": "stdout"
        },
        {
          "output_type": "display_data",
          "data": {
            "image/png": "[encoded data removed]",
            "text/plain": [
              "<Figure size 1800x1800 with 1 Axes>"
            ]
          },
          "metadata": {
            "tags": []
          }
        }
      ]
    },
    {
      "cell_type": "markdown",
      "metadata": {
        "id": "wHNX5Wza4bWI",
        "colab_type": "text"
      },
      "source": [
        "# references\n",
        "\n",
        "https://pytorch.org/docs/stable/torch.html\n",
        "\n",
        "https://pytorch.org/tutorials/beginner/blitz/cifar10_tutorial.html\n",
        "\n",
        "https://nextjournal.com/gkoehler/pytorch-mnist\n",
        "\n",
        "https://machinelearningmastery.com/semi-supervised-generative-adversarial-network/\n",
        "\n",
        "https://arxiv.org/abs/1606.01583"
      ]
    },
    {
      "cell_type": "code",
      "metadata": {
        "id": "BK95Of3XFUHY",
        "colab_type": "code",
        "colab": {}
      },
      "source": [
        ""
      ],
      "execution_count": 0,
      "outputs": []
    }
  ]
}